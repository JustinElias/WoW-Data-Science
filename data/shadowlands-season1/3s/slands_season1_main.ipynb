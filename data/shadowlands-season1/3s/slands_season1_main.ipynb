{
 "metadata": {
  "language_info": {
   "codemirror_mode": {
    "name": "ipython",
    "version": 3
   },
   "file_extension": ".py",
   "mimetype": "text/x-python",
   "name": "python",
   "nbconvert_exporter": "python",
   "pygments_lexer": "ipython3",
   "version": "3.8.5"
  },
  "orig_nbformat": 2,
  "kernelspec": {
   "name": "python385jvsc74a57bd0d9d37f27efacf801dd44f7aa0bcd991a8c67214eacc3fcc5e4f4cdd0eec6dd27",
   "display_name": "Python 3.8.5 64-bit ('base': conda)"
  }
 },
 "nbformat": 4,
 "nbformat_minor": 2,
 "cells": [
  {
   "cell_type": "code",
   "execution_count": 2,
   "metadata": {},
   "outputs": [],
   "source": [
    "#imports needed for cleaning the spreadsheet\n",
    "import pandas as pd \n",
    "import seaborn as sns\n",
    "import matplotlib.pyplot as plt\n",
    "%matplotlib inline"
   ]
  },
  {
   "cell_type": "code",
   "execution_count": 3,
   "metadata": {},
   "outputs": [],
   "source": [
    "df = pd.read_excel('season1-3s-games-1.xlsx')"
   ]
  },
  {
   "cell_type": "code",
   "execution_count": 4,
   "metadata": {},
   "outputs": [
    {
     "output_type": "execute_result",
     "data": {
      "text/plain": [
       "    Timestamp   Map  PlayersNumber  \\\n",
       "0  1622605576  1505              6   \n",
       "1  1622605250  2373              6   \n",
       "2  1622604871  2167              6   \n",
       "3  1622604566  2167              6   \n",
       "4  1622604269  1134              6   \n",
       "\n",
       "                                     TeamComposition  \\\n",
       "0  MONK-Mistweaver-Mysticallx,SHAMAN-Elemental-Th...   \n",
       "1  MONK-Mistweaver-Mysticallx,SHAMAN-Elemental-Th...   \n",
       "2  MONK-Mistweaver-Mysticallx,SHAMAN-Elemental-Th...   \n",
       "3  MONK-Mistweaver-Mysticallx,SHAMAN-Elemental-Th...   \n",
       "4  MONK-Mistweaver-Mysticallx,SHAMAN-Elemental-Th...   \n",
       "\n",
       "                                    EnemyComposition  Duration  Victory  \\\n",
       "0  DEMONHUNTER-Havoc-KaÃ¸tix-Hyjal,MONK-Windwalke...        95    False   \n",
       "1  DEATHKNIGHT-Frost-Metsudofang-Tichondrius,DRUI...       294     True   \n",
       "2  DEMONHUNTER-Havoc-KaÃ¸tix-Hyjal,MONK-Windwalke...        59    False   \n",
       "3  PALADIN-Holy-Popstar-Mug'thol,SHAMAN-Enhanceme...       215     True   \n",
       "4  HUNTER-Survival-Wiillyy-Ragnaros,PRIEST-Discip...       118     True   \n",
       "\n",
       "   KillingBlows  Damage  Healing  Honor  RatingChange   MMR  EnemyMMR  \\\n",
       "0             0     524   253703      0           -10  2370      2418   \n",
       "1             2   18540   955462      0             9  2358      2251   \n",
       "2             0     552   130640      0           -10  2378      2429   \n",
       "3             0   11789   507502      0            12  2347      2356   \n",
       "4             0    4207   293880      0             9  2333      2249   \n",
       "\n",
       "  Specialization  isRated  \n",
       "0     Mistweaver     True  \n",
       "1     Mistweaver     True  \n",
       "2     Mistweaver     True  \n",
       "3     Mistweaver     True  \n",
       "4     Mistweaver     True  "
      ],
      "text/html": "<div>\n<style scoped>\n    .dataframe tbody tr th:only-of-type {\n        vertical-align: middle;\n    }\n\n    .dataframe tbody tr th {\n        vertical-align: top;\n    }\n\n    .dataframe thead th {\n        text-align: right;\n    }\n</style>\n<table border=\"1\" class=\"dataframe\">\n  <thead>\n    <tr style=\"text-align: right;\">\n      <th></th>\n      <th>Timestamp</th>\n      <th>Map</th>\n      <th>PlayersNumber</th>\n      <th>TeamComposition</th>\n      <th>EnemyComposition</th>\n      <th>Duration</th>\n      <th>Victory</th>\n      <th>KillingBlows</th>\n      <th>Damage</th>\n      <th>Healing</th>\n      <th>Honor</th>\n      <th>RatingChange</th>\n      <th>MMR</th>\n      <th>EnemyMMR</th>\n      <th>Specialization</th>\n      <th>isRated</th>\n    </tr>\n  </thead>\n  <tbody>\n    <tr>\n      <th>0</th>\n      <td>1622605576</td>\n      <td>1505</td>\n      <td>6</td>\n      <td>MONK-Mistweaver-Mysticallx,SHAMAN-Elemental-Th...</td>\n      <td>DEMONHUNTER-Havoc-KaÃ¸tix-Hyjal,MONK-Windwalke...</td>\n      <td>95</td>\n      <td>False</td>\n      <td>0</td>\n      <td>524</td>\n      <td>253703</td>\n      <td>0</td>\n      <td>-10</td>\n      <td>2370</td>\n      <td>2418</td>\n      <td>Mistweaver</td>\n      <td>True</td>\n    </tr>\n    <tr>\n      <th>1</th>\n      <td>1622605250</td>\n      <td>2373</td>\n      <td>6</td>\n      <td>MONK-Mistweaver-Mysticallx,SHAMAN-Elemental-Th...</td>\n      <td>DEATHKNIGHT-Frost-Metsudofang-Tichondrius,DRUI...</td>\n      <td>294</td>\n      <td>True</td>\n      <td>2</td>\n      <td>18540</td>\n      <td>955462</td>\n      <td>0</td>\n      <td>9</td>\n      <td>2358</td>\n      <td>2251</td>\n      <td>Mistweaver</td>\n      <td>True</td>\n    </tr>\n    <tr>\n      <th>2</th>\n      <td>1622604871</td>\n      <td>2167</td>\n      <td>6</td>\n      <td>MONK-Mistweaver-Mysticallx,SHAMAN-Elemental-Th...</td>\n      <td>DEMONHUNTER-Havoc-KaÃ¸tix-Hyjal,MONK-Windwalke...</td>\n      <td>59</td>\n      <td>False</td>\n      <td>0</td>\n      <td>552</td>\n      <td>130640</td>\n      <td>0</td>\n      <td>-10</td>\n      <td>2378</td>\n      <td>2429</td>\n      <td>Mistweaver</td>\n      <td>True</td>\n    </tr>\n    <tr>\n      <th>3</th>\n      <td>1622604566</td>\n      <td>2167</td>\n      <td>6</td>\n      <td>MONK-Mistweaver-Mysticallx,SHAMAN-Elemental-Th...</td>\n      <td>PALADIN-Holy-Popstar-Mug'thol,SHAMAN-Enhanceme...</td>\n      <td>215</td>\n      <td>True</td>\n      <td>0</td>\n      <td>11789</td>\n      <td>507502</td>\n      <td>0</td>\n      <td>12</td>\n      <td>2347</td>\n      <td>2356</td>\n      <td>Mistweaver</td>\n      <td>True</td>\n    </tr>\n    <tr>\n      <th>4</th>\n      <td>1622604269</td>\n      <td>1134</td>\n      <td>6</td>\n      <td>MONK-Mistweaver-Mysticallx,SHAMAN-Elemental-Th...</td>\n      <td>HUNTER-Survival-Wiillyy-Ragnaros,PRIEST-Discip...</td>\n      <td>118</td>\n      <td>True</td>\n      <td>0</td>\n      <td>4207</td>\n      <td>293880</td>\n      <td>0</td>\n      <td>9</td>\n      <td>2333</td>\n      <td>2249</td>\n      <td>Mistweaver</td>\n      <td>True</td>\n    </tr>\n  </tbody>\n</table>\n</div>"
     },
     "metadata": {},
     "execution_count": 4
    }
   ],
   "source": [
    "df.head(5)"
   ]
  },
  {
   "cell_type": "code",
   "execution_count": 11,
   "metadata": {},
   "outputs": [],
   "source": [
    "#delete columns that aren't needed\n",
    "del df['PlayersNumber']\n",
    "del df['KillingBlows']\n",
    "del df['Damage']\n",
    "del df['Honor']\n",
    "del df['Specialization']\n",
    "del df['isRated']\n",
    "del df['RatingChange']\n",
    "del df['TeamComposition']"
   ]
  },
  {
   "cell_type": "code",
   "execution_count": 12,
   "metadata": {},
   "outputs": [
    {
     "output_type": "execute_result",
     "data": {
      "text/plain": [
       "    Timestamp   Map                                   EnemyComposition  \\\n",
       "0  1622605576  1505  DEMONHUNTER-Havoc-KaÃ¸tix-Hyjal,MONK-Windwalke...   \n",
       "1  1622605250  2373  DEATHKNIGHT-Frost-Metsudofang-Tichondrius,DRUI...   \n",
       "2  1622604871  2167  DEMONHUNTER-Havoc-KaÃ¸tix-Hyjal,MONK-Windwalke...   \n",
       "3  1622604566  2167  PALADIN-Holy-Popstar-Mug'thol,SHAMAN-Enhanceme...   \n",
       "4  1622604269  1134  HUNTER-Survival-Wiillyy-Ragnaros,PRIEST-Discip...   \n",
       "\n",
       "   Duration  Victory  Healing   MMR  EnemyMMR  \n",
       "0        95    False   253703  2370      2418  \n",
       "1       294     True   955462  2358      2251  \n",
       "2        59    False   130640  2378      2429  \n",
       "3       215     True   507502  2347      2356  \n",
       "4       118     True   293880  2333      2249  "
      ],
      "text/html": "<div>\n<style scoped>\n    .dataframe tbody tr th:only-of-type {\n        vertical-align: middle;\n    }\n\n    .dataframe tbody tr th {\n        vertical-align: top;\n    }\n\n    .dataframe thead th {\n        text-align: right;\n    }\n</style>\n<table border=\"1\" class=\"dataframe\">\n  <thead>\n    <tr style=\"text-align: right;\">\n      <th></th>\n      <th>Timestamp</th>\n      <th>Map</th>\n      <th>EnemyComposition</th>\n      <th>Duration</th>\n      <th>Victory</th>\n      <th>Healing</th>\n      <th>MMR</th>\n      <th>EnemyMMR</th>\n    </tr>\n  </thead>\n  <tbody>\n    <tr>\n      <th>0</th>\n      <td>1622605576</td>\n      <td>1505</td>\n      <td>DEMONHUNTER-Havoc-KaÃ¸tix-Hyjal,MONK-Windwalke...</td>\n      <td>95</td>\n      <td>False</td>\n      <td>253703</td>\n      <td>2370</td>\n      <td>2418</td>\n    </tr>\n    <tr>\n      <th>1</th>\n      <td>1622605250</td>\n      <td>2373</td>\n      <td>DEATHKNIGHT-Frost-Metsudofang-Tichondrius,DRUI...</td>\n      <td>294</td>\n      <td>True</td>\n      <td>955462</td>\n      <td>2358</td>\n      <td>2251</td>\n    </tr>\n    <tr>\n      <th>2</th>\n      <td>1622604871</td>\n      <td>2167</td>\n      <td>DEMONHUNTER-Havoc-KaÃ¸tix-Hyjal,MONK-Windwalke...</td>\n      <td>59</td>\n      <td>False</td>\n      <td>130640</td>\n      <td>2378</td>\n      <td>2429</td>\n    </tr>\n    <tr>\n      <th>3</th>\n      <td>1622604566</td>\n      <td>2167</td>\n      <td>PALADIN-Holy-Popstar-Mug'thol,SHAMAN-Enhanceme...</td>\n      <td>215</td>\n      <td>True</td>\n      <td>507502</td>\n      <td>2347</td>\n      <td>2356</td>\n    </tr>\n    <tr>\n      <th>4</th>\n      <td>1622604269</td>\n      <td>1134</td>\n      <td>HUNTER-Survival-Wiillyy-Ragnaros,PRIEST-Discip...</td>\n      <td>118</td>\n      <td>True</td>\n      <td>293880</td>\n      <td>2333</td>\n      <td>2249</td>\n    </tr>\n  </tbody>\n</table>\n</div>"
     },
     "metadata": {},
     "execution_count": 12
    }
   ],
   "source": [
    "df.head(5)"
   ]
  },
  {
   "cell_type": "code",
   "execution_count": 21,
   "metadata": {},
   "outputs": [
    {
     "output_type": "execute_result",
     "data": {
      "text/plain": [
       "      Timestamp                 Map  \\\n",
       "0    1622605576             Nagrand   \n",
       "1    1622605250     Empyrean Domain   \n",
       "2    1622604871            Robodome   \n",
       "3    1622604566            Robodome   \n",
       "4    1622604269        Tiger's Peak   \n",
       "..          ...                 ...   \n",
       "584  1607547010     Empyrean Domain   \n",
       "585  1607546777     Ashamane's Fall   \n",
       "586  1607546530             Nagrand   \n",
       "587  1607546246  Ruins of Lordaeron   \n",
       "588  1607545963           Mugambala   \n",
       "\n",
       "                                             EnemyComp  Duration in Seconds  \\\n",
       "0    DEMONHUNTER-Havoc-KaÃ¸tix-Hyjal,MONK-Windwalke...                   95   \n",
       "1    DEATHKNIGHT-Frost-Metsudofang-Tichondrius,DRUI...                  294   \n",
       "2    DEMONHUNTER-Havoc-KaÃ¸tix-Hyjal,MONK-Windwalke...                   59   \n",
       "3    PALADIN-Holy-Popstar-Mug'thol,SHAMAN-Enhanceme...                  215   \n",
       "4    HUNTER-Survival-Wiillyy-Ragnaros,PRIEST-Discip...                  118   \n",
       "..                                                 ...                  ...   \n",
       "584  DEATHKNIGHT-Unholy-Glukhar-Eredar,ROGUE-Subtle...                  110   \n",
       "585  DRUID-Feral-Krazikat-BleedingHollow,HUNTER-Mar...                  124   \n",
       "586  MAGE-Fire-Frostyhot-Sargeras,SHAMAN-Restoratio...                  171   \n",
       "587  DRUID-Restoration-Seizuressld-Tichondrius,MAGE...                  143   \n",
       "588  HUNTER-Survival-Risktard-Khaz'goroth,MONK-Wind...                  154   \n",
       "\n",
       "    Victory  Healing   MMR  EnemyMMR  \n",
       "0      Loss   253703  2370      2418  \n",
       "1       Win   955462  2358      2251  \n",
       "2      Loss   130640  2378      2429  \n",
       "3       Win   507502  2347      2356  \n",
       "4       Win   293880  2333      2249  \n",
       "..      ...      ...   ...       ...  \n",
       "584     Win   188008  1631      1489  \n",
       "585     Win   202910  1599      1420  \n",
       "586     Win   208182  1554      1425  \n",
       "587     Win   219704  1517      1330  \n",
       "588     Win   310111  1420      1482  \n",
       "\n",
       "[589 rows x 8 columns]"
      ],
      "text/html": "<div>\n<style scoped>\n    .dataframe tbody tr th:only-of-type {\n        vertical-align: middle;\n    }\n\n    .dataframe tbody tr th {\n        vertical-align: top;\n    }\n\n    .dataframe thead th {\n        text-align: right;\n    }\n</style>\n<table border=\"1\" class=\"dataframe\">\n  <thead>\n    <tr style=\"text-align: right;\">\n      <th></th>\n      <th>Timestamp</th>\n      <th>Map</th>\n      <th>EnemyComp</th>\n      <th>Duration in Seconds</th>\n      <th>Victory</th>\n      <th>Healing</th>\n      <th>MMR</th>\n      <th>EnemyMMR</th>\n    </tr>\n  </thead>\n  <tbody>\n    <tr>\n      <th>0</th>\n      <td>1622605576</td>\n      <td>Nagrand</td>\n      <td>DEMONHUNTER-Havoc-KaÃ¸tix-Hyjal,MONK-Windwalke...</td>\n      <td>95</td>\n      <td>Loss</td>\n      <td>253703</td>\n      <td>2370</td>\n      <td>2418</td>\n    </tr>\n    <tr>\n      <th>1</th>\n      <td>1622605250</td>\n      <td>Empyrean Domain</td>\n      <td>DEATHKNIGHT-Frost-Metsudofang-Tichondrius,DRUI...</td>\n      <td>294</td>\n      <td>Win</td>\n      <td>955462</td>\n      <td>2358</td>\n      <td>2251</td>\n    </tr>\n    <tr>\n      <th>2</th>\n      <td>1622604871</td>\n      <td>Robodome</td>\n      <td>DEMONHUNTER-Havoc-KaÃ¸tix-Hyjal,MONK-Windwalke...</td>\n      <td>59</td>\n      <td>Loss</td>\n      <td>130640</td>\n      <td>2378</td>\n      <td>2429</td>\n    </tr>\n    <tr>\n      <th>3</th>\n      <td>1622604566</td>\n      <td>Robodome</td>\n      <td>PALADIN-Holy-Popstar-Mug'thol,SHAMAN-Enhanceme...</td>\n      <td>215</td>\n      <td>Win</td>\n      <td>507502</td>\n      <td>2347</td>\n      <td>2356</td>\n    </tr>\n    <tr>\n      <th>4</th>\n      <td>1622604269</td>\n      <td>Tiger's Peak</td>\n      <td>HUNTER-Survival-Wiillyy-Ragnaros,PRIEST-Discip...</td>\n      <td>118</td>\n      <td>Win</td>\n      <td>293880</td>\n      <td>2333</td>\n      <td>2249</td>\n    </tr>\n    <tr>\n      <th>...</th>\n      <td>...</td>\n      <td>...</td>\n      <td>...</td>\n      <td>...</td>\n      <td>...</td>\n      <td>...</td>\n      <td>...</td>\n      <td>...</td>\n    </tr>\n    <tr>\n      <th>584</th>\n      <td>1607547010</td>\n      <td>Empyrean Domain</td>\n      <td>DEATHKNIGHT-Unholy-Glukhar-Eredar,ROGUE-Subtle...</td>\n      <td>110</td>\n      <td>Win</td>\n      <td>188008</td>\n      <td>1631</td>\n      <td>1489</td>\n    </tr>\n    <tr>\n      <th>585</th>\n      <td>1607546777</td>\n      <td>Ashamane's Fall</td>\n      <td>DRUID-Feral-Krazikat-BleedingHollow,HUNTER-Mar...</td>\n      <td>124</td>\n      <td>Win</td>\n      <td>202910</td>\n      <td>1599</td>\n      <td>1420</td>\n    </tr>\n    <tr>\n      <th>586</th>\n      <td>1607546530</td>\n      <td>Nagrand</td>\n      <td>MAGE-Fire-Frostyhot-Sargeras,SHAMAN-Restoratio...</td>\n      <td>171</td>\n      <td>Win</td>\n      <td>208182</td>\n      <td>1554</td>\n      <td>1425</td>\n    </tr>\n    <tr>\n      <th>587</th>\n      <td>1607546246</td>\n      <td>Ruins of Lordaeron</td>\n      <td>DRUID-Restoration-Seizuressld-Tichondrius,MAGE...</td>\n      <td>143</td>\n      <td>Win</td>\n      <td>219704</td>\n      <td>1517</td>\n      <td>1330</td>\n    </tr>\n    <tr>\n      <th>588</th>\n      <td>1607545963</td>\n      <td>Mugambala</td>\n      <td>HUNTER-Survival-Risktard-Khaz'goroth,MONK-Wind...</td>\n      <td>154</td>\n      <td>Win</td>\n      <td>310111</td>\n      <td>1420</td>\n      <td>1482</td>\n    </tr>\n  </tbody>\n</table>\n<p>589 rows × 8 columns</p>\n</div>"
     },
     "metadata": {},
     "execution_count": 21
    }
   ],
   "source": [
    "#rename columns\n",
    "df.rename(columns={\"EnemyComposition\":\"EnemyComp\", \"Duration\": \"Duration in Seconds\"})"
   ]
  },
  {
   "cell_type": "code",
   "execution_count": 14,
   "metadata": {},
   "outputs": [],
   "source": [
    "#create a dictionary that holds the map id and the map number\n",
    "map_dict= {572: \"Ruins of Lordaeron\", 617: \"Dalaran Sewers\", 980: \"Tol'Viron\", 1134: \"Tiger's Peak\", 1504: \"Black Rook Hold\", 1505: \"Nagrand\", 1552: \"Ashamane's Fall\", 1672: \"Blade's Edge\", 1825: \"Hook Point\", 1911: \"Mugambala\", 2167: \"Robodome\", 2373: \"Empyrean Domain\"}\n",
    "\n",
    "#replace the values in the map column with the map names\n",
    "df['Map'].replace(map_dict, inplace=True)"
   ]
  },
  {
   "cell_type": "code",
   "execution_count": 16,
   "metadata": {},
   "outputs": [],
   "source": [
    "#Change the Victory column from Falses/Trues to Win/Loss\n",
    "\n",
    "#convert this column from Bool to String\n",
    "tf_dict = {True: 'TRUE', False: 'FALSE'}\n",
    "df['Victory'].replace(tf_dict, inplace=True)\n",
    "\n",
    "#change the True and Falses to Win/Loss\n",
    "win_dict = {'TRUE': 'Win', 'FALSE': 'Loss'}\n",
    "df['Victory'].replace(win_dict, inplace=True)"
   ]
  },
  {
   "cell_type": "code",
   "execution_count": 22,
   "metadata": {},
   "outputs": [
    {
     "output_type": "execute_result",
     "data": {
      "text/plain": [
       "    Timestamp              Map  \\\n",
       "0  1622605576          Nagrand   \n",
       "1  1622605250  Empyrean Domain   \n",
       "2  1622604871         Robodome   \n",
       "3  1622604566         Robodome   \n",
       "4  1622604269     Tiger's Peak   \n",
       "\n",
       "                                    EnemyComposition  Duration Victory  \\\n",
       "0  DEMONHUNTER-Havoc-KaÃ¸tix-Hyjal,MONK-Windwalke...        95    Loss   \n",
       "1  DEATHKNIGHT-Frost-Metsudofang-Tichondrius,DRUI...       294     Win   \n",
       "2  DEMONHUNTER-Havoc-KaÃ¸tix-Hyjal,MONK-Windwalke...        59    Loss   \n",
       "3  PALADIN-Holy-Popstar-Mug'thol,SHAMAN-Enhanceme...       215     Win   \n",
       "4  HUNTER-Survival-Wiillyy-Ragnaros,PRIEST-Discip...       118     Win   \n",
       "\n",
       "   Healing   MMR  EnemyMMR  \n",
       "0   253703  2370      2418  \n",
       "1   955462  2358      2251  \n",
       "2   130640  2378      2429  \n",
       "3   507502  2347      2356  \n",
       "4   293880  2333      2249  "
      ],
      "text/html": "<div>\n<style scoped>\n    .dataframe tbody tr th:only-of-type {\n        vertical-align: middle;\n    }\n\n    .dataframe tbody tr th {\n        vertical-align: top;\n    }\n\n    .dataframe thead th {\n        text-align: right;\n    }\n</style>\n<table border=\"1\" class=\"dataframe\">\n  <thead>\n    <tr style=\"text-align: right;\">\n      <th></th>\n      <th>Timestamp</th>\n      <th>Map</th>\n      <th>EnemyComposition</th>\n      <th>Duration</th>\n      <th>Victory</th>\n      <th>Healing</th>\n      <th>MMR</th>\n      <th>EnemyMMR</th>\n    </tr>\n  </thead>\n  <tbody>\n    <tr>\n      <th>0</th>\n      <td>1622605576</td>\n      <td>Nagrand</td>\n      <td>DEMONHUNTER-Havoc-KaÃ¸tix-Hyjal,MONK-Windwalke...</td>\n      <td>95</td>\n      <td>Loss</td>\n      <td>253703</td>\n      <td>2370</td>\n      <td>2418</td>\n    </tr>\n    <tr>\n      <th>1</th>\n      <td>1622605250</td>\n      <td>Empyrean Domain</td>\n      <td>DEATHKNIGHT-Frost-Metsudofang-Tichondrius,DRUI...</td>\n      <td>294</td>\n      <td>Win</td>\n      <td>955462</td>\n      <td>2358</td>\n      <td>2251</td>\n    </tr>\n    <tr>\n      <th>2</th>\n      <td>1622604871</td>\n      <td>Robodome</td>\n      <td>DEMONHUNTER-Havoc-KaÃ¸tix-Hyjal,MONK-Windwalke...</td>\n      <td>59</td>\n      <td>Loss</td>\n      <td>130640</td>\n      <td>2378</td>\n      <td>2429</td>\n    </tr>\n    <tr>\n      <th>3</th>\n      <td>1622604566</td>\n      <td>Robodome</td>\n      <td>PALADIN-Holy-Popstar-Mug'thol,SHAMAN-Enhanceme...</td>\n      <td>215</td>\n      <td>Win</td>\n      <td>507502</td>\n      <td>2347</td>\n      <td>2356</td>\n    </tr>\n    <tr>\n      <th>4</th>\n      <td>1622604269</td>\n      <td>Tiger's Peak</td>\n      <td>HUNTER-Survival-Wiillyy-Ragnaros,PRIEST-Discip...</td>\n      <td>118</td>\n      <td>Win</td>\n      <td>293880</td>\n      <td>2333</td>\n      <td>2249</td>\n    </tr>\n  </tbody>\n</table>\n</div>"
     },
     "metadata": {},
     "execution_count": 22
    }
   ],
   "source": [
    "df.head(5)"
   ]
  },
  {
   "cell_type": "code",
   "execution_count": 23,
   "metadata": {},
   "outputs": [],
   "source": [
    "df.to_excel(\"season1-shadowlands-3s.xlsx\", sheet_name='Cleaned-data')"
   ]
  },
  {
   "cell_type": "code",
   "execution_count": null,
   "metadata": {},
   "outputs": [],
   "source": []
  }
 ]
}