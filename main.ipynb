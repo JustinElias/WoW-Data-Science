{
 "metadata": {
  "language_info": {
   "codemirror_mode": {
    "name": "ipython",
    "version": 3
   },
   "file_extension": ".py",
   "mimetype": "text/x-python",
   "name": "python",
   "nbconvert_exporter": "python",
   "pygments_lexer": "ipython3",
   "version": "3.8.5"
  },
  "orig_nbformat": 2,
  "kernelspec": {
   "name": "python385jvsc74a57bd0d9d37f27efacf801dd44f7aa0bcd991a8c67214eacc3fcc5e4f4cdd0eec6dd27",
   "display_name": "Python 3.8.5 64-bit ('base': conda)"
  }
 },
 "nbformat": 4,
 "nbformat_minor": 2,
 "cells": [
  {
   "cell_type": "code",
   "execution_count": 1,
   "metadata": {},
   "outputs": [],
   "source": [
    "import pandas as pd \n",
    "import seaborn as sns\n",
    "import matplotlib.pyplot as plt\n",
    "%matplotlib inline"
   ]
  },
  {
   "cell_type": "code",
   "execution_count": 2,
   "metadata": {},
   "outputs": [],
   "source": [
    "#import dataset\n",
    "df = pd.read_excel('data/organized-data.xlsx')"
   ]
  },
  {
   "cell_type": "code",
   "execution_count": 3,
   "metadata": {},
   "outputs": [],
   "source": [
    "newdf = pd.read_excel('data/organized-data.xlsx')"
   ]
  },
  {
   "cell_type": "code",
   "execution_count": 4,
   "metadata": {},
   "outputs": [],
   "source": [
    "#delete column I don't need\n",
    "del newdf['TeamComposition']"
   ]
  },
  {
   "cell_type": "code",
   "execution_count": 5,
   "metadata": {},
   "outputs": [
    {
     "output_type": "execute_result",
     "data": {
      "text/plain": [
       "   Index   Timestamp   Map                                   EnemyComposition  \\\n",
       "0   1470  1622605576  1505  DEMONHUNTER-Havoc-KaÃ¸tix-Hyjal,MONK-Windwalke...   \n",
       "1   1469  1622605250  2373  DEATHKNIGHT-Frost-Metsudofang-Tichondrius,DRUI...   \n",
       "2   1468  1622604871  2167  DEMONHUNTER-Havoc-KaÃ¸tix-Hyjal,MONK-Windwalke...   \n",
       "3   1467  1622604566  2167  PALADIN-Holy-Popstar-Mug'thol,SHAMAN-Enhanceme...   \n",
       "4   1466  1622604269  1134  HUNTER-Survival-Wiillyy-Ragnaros,PRIEST-Discip...   \n",
       "\n",
       "              Duration Duration in Minutes  Victory  RatingChange   MMR  \\\n",
       "0  1900-04-04 00:00:00            00:01:35    False           -10  2370   \n",
       "1                  294            00:04:54     True             9  2358   \n",
       "2                   59            00:00:59    False           -10  2378   \n",
       "3                  215            00:03:35     True            12  2347   \n",
       "4                  118            00:01:58     True             9  2333   \n",
       "\n",
       "   EnemyMMR  \n",
       "0      2418  \n",
       "1      2251  \n",
       "2      2429  \n",
       "3      2356  \n",
       "4      2249  "
      ],
      "text/html": "<div>\n<style scoped>\n    .dataframe tbody tr th:only-of-type {\n        vertical-align: middle;\n    }\n\n    .dataframe tbody tr th {\n        vertical-align: top;\n    }\n\n    .dataframe thead th {\n        text-align: right;\n    }\n</style>\n<table border=\"1\" class=\"dataframe\">\n  <thead>\n    <tr style=\"text-align: right;\">\n      <th></th>\n      <th>Index</th>\n      <th>Timestamp</th>\n      <th>Map</th>\n      <th>EnemyComposition</th>\n      <th>Duration</th>\n      <th>Duration in Minutes</th>\n      <th>Victory</th>\n      <th>RatingChange</th>\n      <th>MMR</th>\n      <th>EnemyMMR</th>\n    </tr>\n  </thead>\n  <tbody>\n    <tr>\n      <th>0</th>\n      <td>1470</td>\n      <td>1622605576</td>\n      <td>1505</td>\n      <td>DEMONHUNTER-Havoc-KaÃ¸tix-Hyjal,MONK-Windwalke...</td>\n      <td>1900-04-04 00:00:00</td>\n      <td>00:01:35</td>\n      <td>False</td>\n      <td>-10</td>\n      <td>2370</td>\n      <td>2418</td>\n    </tr>\n    <tr>\n      <th>1</th>\n      <td>1469</td>\n      <td>1622605250</td>\n      <td>2373</td>\n      <td>DEATHKNIGHT-Frost-Metsudofang-Tichondrius,DRUI...</td>\n      <td>294</td>\n      <td>00:04:54</td>\n      <td>True</td>\n      <td>9</td>\n      <td>2358</td>\n      <td>2251</td>\n    </tr>\n    <tr>\n      <th>2</th>\n      <td>1468</td>\n      <td>1622604871</td>\n      <td>2167</td>\n      <td>DEMONHUNTER-Havoc-KaÃ¸tix-Hyjal,MONK-Windwalke...</td>\n      <td>59</td>\n      <td>00:00:59</td>\n      <td>False</td>\n      <td>-10</td>\n      <td>2378</td>\n      <td>2429</td>\n    </tr>\n    <tr>\n      <th>3</th>\n      <td>1467</td>\n      <td>1622604566</td>\n      <td>2167</td>\n      <td>PALADIN-Holy-Popstar-Mug'thol,SHAMAN-Enhanceme...</td>\n      <td>215</td>\n      <td>00:03:35</td>\n      <td>True</td>\n      <td>12</td>\n      <td>2347</td>\n      <td>2356</td>\n    </tr>\n    <tr>\n      <th>4</th>\n      <td>1466</td>\n      <td>1622604269</td>\n      <td>1134</td>\n      <td>HUNTER-Survival-Wiillyy-Ragnaros,PRIEST-Discip...</td>\n      <td>118</td>\n      <td>00:01:58</td>\n      <td>True</td>\n      <td>9</td>\n      <td>2333</td>\n      <td>2249</td>\n    </tr>\n  </tbody>\n</table>\n</div>"
     },
     "metadata": {},
     "execution_count": 5
    }
   ],
   "source": [
    "newdf.head(5)"
   ]
  },
  {
   "cell_type": "code",
   "execution_count": 6,
   "metadata": {},
   "outputs": [
    {
     "output_type": "execute_result",
     "data": {
      "text/plain": [
       "      Index   Timestamp   Map  \\\n",
       "0      1470  1622605576  1505   \n",
       "1      1469  1622605250  2373   \n",
       "2      1468  1622604871  2167   \n",
       "3      1467  1622604566  2167   \n",
       "4      1466  1622604269  1134   \n",
       "...     ...         ...   ...   \n",
       "1466      4  1607488561   980   \n",
       "1467      3  1607488328  1505   \n",
       "1468      2  1607487801  2167   \n",
       "1469      1  1607487621  1672   \n",
       "1470      0  1607487259  1505   \n",
       "\n",
       "                                              EnemyComp             Duration  \\\n",
       "0     DEMONHUNTER-Havoc-KaÃ¸tix-Hyjal,MONK-Windwalke...  1900-04-04 00:00:00   \n",
       "1     DEATHKNIGHT-Frost-Metsudofang-Tichondrius,DRUI...                  294   \n",
       "2     DEMONHUNTER-Havoc-KaÃ¸tix-Hyjal,MONK-Windwalke...                   59   \n",
       "3     PALADIN-Holy-Popstar-Mug'thol,SHAMAN-Enhanceme...                  215   \n",
       "4     HUNTER-Survival-Wiillyy-Ragnaros,PRIEST-Discip...                  118   \n",
       "...                                                 ...                  ...   \n",
       "1466  DEMONHUNTER-Havoc-Kippeh-Kel'Thuzad,PALADIN-Re...                   59   \n",
       "1467  MAGE-Frost-Voozie-EmeraldDream,ROGUE-Subtlety-...                   46   \n",
       "1468  PRIEST-Discipline-Dustbunny-Skywall,WARRIOR-Ar...                   84   \n",
       "1469  DRUID-Balance-YaÃ­ra-Quel'Thalas,MONK-Windwalk...                   38   \n",
       "1470  DRUID-Feral-BÃªowÃ¼lf-Proudmoore,PRIEST-Shadow...                   46   \n",
       "\n",
       "     Duration in Minutes  Victory  RatingChange   MMR  EnemyMMR  \n",
       "0               00:01:35    False           -10  2370      2418  \n",
       "1               00:04:54     True             9  2358      2251  \n",
       "2               00:00:59    False           -10  2378      2429  \n",
       "3               00:03:35     True            12  2347      2356  \n",
       "4               00:01:58     True             9  2333      2249  \n",
       "...                  ...      ...           ...   ...       ...  \n",
       "1466            00:00:59     True            96  1688      1692  \n",
       "1467            00:00:46     True            96  1613      1622  \n",
       "1468            00:01:24     True            96  1605      1594  \n",
       "1469            00:00:38     True            96  1509      1509  \n",
       "1470            00:00:46     True            96  1500      1500  \n",
       "\n",
       "[1471 rows x 10 columns]"
      ],
      "text/html": "<div>\n<style scoped>\n    .dataframe tbody tr th:only-of-type {\n        vertical-align: middle;\n    }\n\n    .dataframe tbody tr th {\n        vertical-align: top;\n    }\n\n    .dataframe thead th {\n        text-align: right;\n    }\n</style>\n<table border=\"1\" class=\"dataframe\">\n  <thead>\n    <tr style=\"text-align: right;\">\n      <th></th>\n      <th>Index</th>\n      <th>Timestamp</th>\n      <th>Map</th>\n      <th>EnemyComp</th>\n      <th>Duration</th>\n      <th>Duration in Minutes</th>\n      <th>Victory</th>\n      <th>RatingChange</th>\n      <th>MMR</th>\n      <th>EnemyMMR</th>\n    </tr>\n  </thead>\n  <tbody>\n    <tr>\n      <th>0</th>\n      <td>1470</td>\n      <td>1622605576</td>\n      <td>1505</td>\n      <td>DEMONHUNTER-Havoc-KaÃ¸tix-Hyjal,MONK-Windwalke...</td>\n      <td>1900-04-04 00:00:00</td>\n      <td>00:01:35</td>\n      <td>False</td>\n      <td>-10</td>\n      <td>2370</td>\n      <td>2418</td>\n    </tr>\n    <tr>\n      <th>1</th>\n      <td>1469</td>\n      <td>1622605250</td>\n      <td>2373</td>\n      <td>DEATHKNIGHT-Frost-Metsudofang-Tichondrius,DRUI...</td>\n      <td>294</td>\n      <td>00:04:54</td>\n      <td>True</td>\n      <td>9</td>\n      <td>2358</td>\n      <td>2251</td>\n    </tr>\n    <tr>\n      <th>2</th>\n      <td>1468</td>\n      <td>1622604871</td>\n      <td>2167</td>\n      <td>DEMONHUNTER-Havoc-KaÃ¸tix-Hyjal,MONK-Windwalke...</td>\n      <td>59</td>\n      <td>00:00:59</td>\n      <td>False</td>\n      <td>-10</td>\n      <td>2378</td>\n      <td>2429</td>\n    </tr>\n    <tr>\n      <th>3</th>\n      <td>1467</td>\n      <td>1622604566</td>\n      <td>2167</td>\n      <td>PALADIN-Holy-Popstar-Mug'thol,SHAMAN-Enhanceme...</td>\n      <td>215</td>\n      <td>00:03:35</td>\n      <td>True</td>\n      <td>12</td>\n      <td>2347</td>\n      <td>2356</td>\n    </tr>\n    <tr>\n      <th>4</th>\n      <td>1466</td>\n      <td>1622604269</td>\n      <td>1134</td>\n      <td>HUNTER-Survival-Wiillyy-Ragnaros,PRIEST-Discip...</td>\n      <td>118</td>\n      <td>00:01:58</td>\n      <td>True</td>\n      <td>9</td>\n      <td>2333</td>\n      <td>2249</td>\n    </tr>\n    <tr>\n      <th>...</th>\n      <td>...</td>\n      <td>...</td>\n      <td>...</td>\n      <td>...</td>\n      <td>...</td>\n      <td>...</td>\n      <td>...</td>\n      <td>...</td>\n      <td>...</td>\n      <td>...</td>\n    </tr>\n    <tr>\n      <th>1466</th>\n      <td>4</td>\n      <td>1607488561</td>\n      <td>980</td>\n      <td>DEMONHUNTER-Havoc-Kippeh-Kel'Thuzad,PALADIN-Re...</td>\n      <td>59</td>\n      <td>00:00:59</td>\n      <td>True</td>\n      <td>96</td>\n      <td>1688</td>\n      <td>1692</td>\n    </tr>\n    <tr>\n      <th>1467</th>\n      <td>3</td>\n      <td>1607488328</td>\n      <td>1505</td>\n      <td>MAGE-Frost-Voozie-EmeraldDream,ROGUE-Subtlety-...</td>\n      <td>46</td>\n      <td>00:00:46</td>\n      <td>True</td>\n      <td>96</td>\n      <td>1613</td>\n      <td>1622</td>\n    </tr>\n    <tr>\n      <th>1468</th>\n      <td>2</td>\n      <td>1607487801</td>\n      <td>2167</td>\n      <td>PRIEST-Discipline-Dustbunny-Skywall,WARRIOR-Ar...</td>\n      <td>84</td>\n      <td>00:01:24</td>\n      <td>True</td>\n      <td>96</td>\n      <td>1605</td>\n      <td>1594</td>\n    </tr>\n    <tr>\n      <th>1469</th>\n      <td>1</td>\n      <td>1607487621</td>\n      <td>1672</td>\n      <td>DRUID-Balance-YaÃ­ra-Quel'Thalas,MONK-Windwalk...</td>\n      <td>38</td>\n      <td>00:00:38</td>\n      <td>True</td>\n      <td>96</td>\n      <td>1509</td>\n      <td>1509</td>\n    </tr>\n    <tr>\n      <th>1470</th>\n      <td>0</td>\n      <td>1607487259</td>\n      <td>1505</td>\n      <td>DRUID-Feral-BÃªowÃ¼lf-Proudmoore,PRIEST-Shadow...</td>\n      <td>46</td>\n      <td>00:00:46</td>\n      <td>True</td>\n      <td>96</td>\n      <td>1500</td>\n      <td>1500</td>\n    </tr>\n  </tbody>\n</table>\n<p>1471 rows × 10 columns</p>\n</div>"
     },
     "metadata": {},
     "execution_count": 6
    }
   ],
   "source": [
    "#rename long column\n",
    "newdf.rename(columns={\"EnemyComposition\":\"EnemyComp\"})"
   ]
  },
  {
   "cell_type": "code",
   "execution_count": 17,
   "metadata": {},
   "outputs": [
    {
     "output_type": "stream",
     "name": "stdout",
     "text": [
      "{572: 'Ruins of Lordaeron', 617: 'Dalaran Sewers', 980: \"Tol'Viron\", 1134: \"Tiger's Peak\", 1504: 'Black Rook Hold', 1505: 'Nagrand', 1552: \"Ashamane's Fall\", 1672: \"Blade's Edge\", 1825: 'Hook Point', 1911: 'Mugambala', 2167: 'Robodome', 2373: 'Empyrean Domain'}\n"
     ]
    }
   ],
   "source": [
    "#create a dictionary that holds the map id and the map number\n",
    "# import pandas as pd\n",
    "\n",
    "# df = pd.DataFrame(data={'a': [1, 2, 3], 'b': [100, 200, 300]})\n",
    "# rename_dict = {100: 1000, 200: 2000}\n",
    "\n",
    "# df['b'].replace(rename_dict, inplace=True)\n",
    "\n",
    "# print(df)\n",
    "# which results in:\n",
    "\n",
    "#    a     b\n",
    "# 0  1  1000\n",
    "# 1  2  2000\n",
    "# 2  3   300\n",
    "map_dict= {572: \"Ruins of Lordaeron\", 617: \"Dalaran Sewers\", 980: \"Tol'Viron\", 1134: \"Tiger's Peak\", 1504: \"Black Rook Hold\", 1505: \"Nagrand\", 1552: \"Ashamane's Fall\", 1672: \"Blade's Edge\", 1825: \"Hook Point\", 1911: \"Mugambala\", 2167: \"Robodome\", 2373: \"Empyrean Domain\"}\n",
    "\n",
    "print(map_dict)\n",
    "\n"
   ]
  },
  {
   "cell_type": "code",
   "execution_count": 18,
   "metadata": {},
   "outputs": [],
   "source": [
    "#replace the values in the map column with the map names\n",
    "newdf['Map'].replace(map_dict, inplace=True)"
   ]
  },
  {
   "cell_type": "code",
   "execution_count": 12,
   "metadata": {},
   "outputs": [
    {
     "output_type": "execute_result",
     "data": {
      "text/plain": [
       "Index                   int64\n",
       "Timestamp               int64\n",
       "Map                     int64\n",
       "EnemyComposition       object\n",
       "Duration               object\n",
       "Duration in Minutes    object\n",
       "Victory                  bool\n",
       "RatingChange            int64\n",
       "MMR                     int64\n",
       "EnemyMMR                int64\n",
       "dtype: object"
      ]
     },
     "metadata": {},
     "execution_count": 12
    }
   ],
   "source": [
    "newdf.dtypes"
   ]
  },
  {
   "cell_type": "code",
   "execution_count": 17,
   "metadata": {},
   "outputs": [],
   "source": [
    "#change the values from True/False to Win/Loss\n",
    "\n",
    "#convert the column from Bool to string\n",
    "tf_dict = {True: 'TRUE', False: 'FALSE'}\n",
    "newdf['Victory'].replace(tf_dict, inplace=True)"
   ]
  },
  {
   "cell_type": "code",
   "execution_count": 19,
   "metadata": {},
   "outputs": [],
   "source": [
    "#change the True and Falses to Win/Loss\n",
    "win_dict = {'TRUE': 'Win', 'FALSE': 'Loss'}\n",
    "newdf['Victory'].replace(win_dict, inplace=True)"
   ]
  },
  {
   "cell_type": "code",
   "execution_count": 20,
   "metadata": {},
   "outputs": [
    {
     "output_type": "execute_result",
     "data": {
      "text/plain": [
       "   Index   Timestamp   Map                                   EnemyComposition  \\\n",
       "0   1470  1622605576  1505  DEMONHUNTER-Havoc-KaÃ¸tix-Hyjal,MONK-Windwalke...   \n",
       "1   1469  1622605250  2373  DEATHKNIGHT-Frost-Metsudofang-Tichondrius,DRUI...   \n",
       "2   1468  1622604871  2167  DEMONHUNTER-Havoc-KaÃ¸tix-Hyjal,MONK-Windwalke...   \n",
       "3   1467  1622604566  2167  PALADIN-Holy-Popstar-Mug'thol,SHAMAN-Enhanceme...   \n",
       "4   1466  1622604269  1134  HUNTER-Survival-Wiillyy-Ragnaros,PRIEST-Discip...   \n",
       "\n",
       "              Duration Duration in Minutes Victory  RatingChange   MMR  \\\n",
       "0  1900-04-04 00:00:00            00:01:35    Loss           -10  2370   \n",
       "1                  294            00:04:54     Win             9  2358   \n",
       "2                   59            00:00:59    Loss           -10  2378   \n",
       "3                  215            00:03:35     Win            12  2347   \n",
       "4                  118            00:01:58     Win             9  2333   \n",
       "\n",
       "   EnemyMMR  \n",
       "0      2418  \n",
       "1      2251  \n",
       "2      2429  \n",
       "3      2356  \n",
       "4      2249  "
      ],
      "text/html": "<div>\n<style scoped>\n    .dataframe tbody tr th:only-of-type {\n        vertical-align: middle;\n    }\n\n    .dataframe tbody tr th {\n        vertical-align: top;\n    }\n\n    .dataframe thead th {\n        text-align: right;\n    }\n</style>\n<table border=\"1\" class=\"dataframe\">\n  <thead>\n    <tr style=\"text-align: right;\">\n      <th></th>\n      <th>Index</th>\n      <th>Timestamp</th>\n      <th>Map</th>\n      <th>EnemyComposition</th>\n      <th>Duration</th>\n      <th>Duration in Minutes</th>\n      <th>Victory</th>\n      <th>RatingChange</th>\n      <th>MMR</th>\n      <th>EnemyMMR</th>\n    </tr>\n  </thead>\n  <tbody>\n    <tr>\n      <th>0</th>\n      <td>1470</td>\n      <td>1622605576</td>\n      <td>1505</td>\n      <td>DEMONHUNTER-Havoc-KaÃ¸tix-Hyjal,MONK-Windwalke...</td>\n      <td>1900-04-04 00:00:00</td>\n      <td>00:01:35</td>\n      <td>Loss</td>\n      <td>-10</td>\n      <td>2370</td>\n      <td>2418</td>\n    </tr>\n    <tr>\n      <th>1</th>\n      <td>1469</td>\n      <td>1622605250</td>\n      <td>2373</td>\n      <td>DEATHKNIGHT-Frost-Metsudofang-Tichondrius,DRUI...</td>\n      <td>294</td>\n      <td>00:04:54</td>\n      <td>Win</td>\n      <td>9</td>\n      <td>2358</td>\n      <td>2251</td>\n    </tr>\n    <tr>\n      <th>2</th>\n      <td>1468</td>\n      <td>1622604871</td>\n      <td>2167</td>\n      <td>DEMONHUNTER-Havoc-KaÃ¸tix-Hyjal,MONK-Windwalke...</td>\n      <td>59</td>\n      <td>00:00:59</td>\n      <td>Loss</td>\n      <td>-10</td>\n      <td>2378</td>\n      <td>2429</td>\n    </tr>\n    <tr>\n      <th>3</th>\n      <td>1467</td>\n      <td>1622604566</td>\n      <td>2167</td>\n      <td>PALADIN-Holy-Popstar-Mug'thol,SHAMAN-Enhanceme...</td>\n      <td>215</td>\n      <td>00:03:35</td>\n      <td>Win</td>\n      <td>12</td>\n      <td>2347</td>\n      <td>2356</td>\n    </tr>\n    <tr>\n      <th>4</th>\n      <td>1466</td>\n      <td>1622604269</td>\n      <td>1134</td>\n      <td>HUNTER-Survival-Wiillyy-Ragnaros,PRIEST-Discip...</td>\n      <td>118</td>\n      <td>00:01:58</td>\n      <td>Win</td>\n      <td>9</td>\n      <td>2333</td>\n      <td>2249</td>\n    </tr>\n  </tbody>\n</table>\n</div>"
     },
     "metadata": {},
     "execution_count": 20
    }
   ],
   "source": [
    "newdf.head(5)"
   ]
  },
  {
   "cell_type": "code",
   "execution_count": null,
   "metadata": {},
   "outputs": [],
   "source": []
  },
  {
   "cell_type": "code",
   "execution_count": 27,
   "metadata": {},
   "outputs": [],
   "source": [
    "newdf.to_excel(\"final-analysis.xlsx\", sheet_name='Cleaned-data')"
   ]
  }
 ]
}